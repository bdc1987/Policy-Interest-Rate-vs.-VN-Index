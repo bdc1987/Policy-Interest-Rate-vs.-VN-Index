import pandas as pd
import matplotlib.pyplot as plt

# Đọc dữ liệu
df_index = pd.read_csv('../data/Data VNINDEX.csv')
df_rate = pd.read_csv('../data/Ls-SBV.csv')

# Chuẩn hóa ngày cho VNINDEX
df_index['Ngày'] = pd.to_datetime(df_index['Ngày'], dayfirst=True)
df_index['Tháng'] = df_index['Ngày'].dt.to_period('M')

# Chuẩn hóa tháng cho lãi suất
df_rate['Time'] = pd.to_datetime(df_rate['Time'], format='%b-%y')
df_rate['Tháng'] = df_rate['Time'].dt.to_period('M')

# Dịch lãi suất Refinancing lên 1 tháng (ảnh hưởng sau 1 tháng)
df_rate['Refinancing_shift'] = df_rate['Refinancing'].shift(1)

# Gộp vào dữ liệu VNINDEX theo tháng
df_merged = pd.merge(df_index, df_rate[['Tháng', 'Refinancing_shift']], on='Tháng', how='left')

# Tính giá đóng cửa trung bình mỗi tháng
monthly_index = df_merged.groupby('Tháng')['Lần cuối'].apply(lambda x: x.str.replace(',', '').astype(float).mean()).reset_index()
monthly_index = pd.merge(monthly_index, df_rate[['Tháng', 'Refinancing_shift']], on='Tháng', how='left')

# Đảm bảo kiểu dữ liệu đúng
monthly_index['Lần cuối'] = monthly_index['Lần cuối'].astype(float)
monthly_index['Refinancing_shift'] = pd.to_numeric(monthly_index['Refinancing_shift'], errors='coerce')

# Xác định các đợt tăng/giảm lãi suất
df_rate['Refinancing_diff'] = df_rate['Refinancing'].diff()
increase = df_rate[df_rate['Refinancing_diff'] > 0][['Tháng', 'Refinancing', 'Refinancing_diff']]
decrease = df_rate[df_rate['Refinancing_diff'] < 0][['Tháng', 'Refinancing', 'Refinancing_diff']]

# Gộp thông tin tăng/giảm vào monthly_index
monthly_index = pd.merge(monthly_index, df_rate[['Tháng', 'Refinancing_diff']], on='Tháng', how='left')

# Xuất bảng so sánh ra file CSV
increase.to_csv('../output/dot_tang_lai_suat.csv', index=False, encoding='utf-8-sig')
decrease.to_csv('../output/dot_giam_lai_suat.csv', index=False, encoding='utf-8-sig')

# Vẽ biểu đồ và đánh dấu các đợt tăng/giảm lãi suất
fig, ax1 = plt.subplots(figsize=(12,6))

ax1.plot(monthly_index['Tháng'].astype(str), monthly_index['Lần cuối'], color='blue', marker='o', label='VNINDEX')
ax1.set_ylabel('VNINDEX', color='blue')
ax1.tick_params(axis='y', labelcolor='blue')
ax1.set_xticks(monthly_index['Tháng'].astype(str)[::2])
ax1.set_xticklabels(monthly_index['Tháng'].astype(str)[::2], rotation=45)

ax2 = ax1.twinx()
ax2.plot(monthly_index['Tháng'].astype(str), monthly_index['Refinancing_shift'], color='red', marker='s', label='Refinancing Rate (lùi 1 tháng)')
ax2.set_ylabel('Refinancing Rate (%)', color='red')
ax2.tick_params(axis='y', labelcolor='red')

for idx, row in monthly_index.iterrows():
    if row['Refinancing_diff'] > 0:
        ax1.axvline(x=row['Tháng'].strftime('%Y-%m'), color='green', linestyle='--', alpha=0.5)
    elif row['Refinancing_diff'] < 0:
        ax1.axvline(x=row['Tháng'].strftime('%Y-%m'), color='orange', linestyle='--', alpha=0.5)

plt.title('Ảnh hưởng của thay đổi lãi suất Refinancing tới VNINDEX (sau 1 tháng)')
fig.tight_layout()
plt.savefig('../output/chart.png')
plt.show()
